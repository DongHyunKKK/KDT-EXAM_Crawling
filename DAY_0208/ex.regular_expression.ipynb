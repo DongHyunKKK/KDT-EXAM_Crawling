{
 "cells": [
  {
   "cell_type": "markdown",
   "metadata": {},
   "source": [
    "#### 정규 표현식 <hr>"
   ]
  },
  {
   "cell_type": "markdown",
   "metadata": {},
   "source": [
    "- 정규 표현식 객체 사용:\n",
    "    - 정규식 객체를 생성 : compile(pattern)\n",
    "        - 동일 패턴을 여러 번 검색하는 경우, 편리하게 사용\n",
    "        - re모듈 함수들은 pattern 파라미터 없이 호출이 가능 => search(string, pos), match(string, pos) 등\n",
    "    - 정규식 객체를 생성 : match\n",
    "        - 문자열의 처음부터 검사\n"
   ]
  },
  {
   "cell_type": "markdown",
   "metadata": {},
   "source": [
    "- 정규 표현식 예제 #1"
   ]
  },
  {
   "cell_type": "code",
   "execution_count": 2,
   "metadata": {},
   "outputs": [
    {
     "name": "stdout",
     "output_type": "stream",
     "text": [
      "None\n",
      "<re.Match object; span=(7, 12), match='apple'>\n",
      "<re.Match object; span=(0, 6), match='python'>\n",
      "<re.Match object; span=(2, 6), match='like'>\n"
     ]
    }
   ],
   "source": [
    "import re\n",
    "\n",
    "# compile 사용 안함\n",
    "m = re.match('[a-z]+', 'Python')\n",
    "print(m)\n",
    "print(re.search('apple', 'I like apple!'))\n",
    "\n",
    "# compile 사용\n",
    "p = re.compile('[a-z]+')\n",
    "m = p.match('python')\n",
    "print(m)\n",
    "print(p.search('I like apple 123'))"
   ]
  },
  {
   "cell_type": "code",
   "execution_count": 3,
   "metadata": {},
   "outputs": [
    {
     "name": "stdout",
     "output_type": "stream",
     "text": [
      "None\n"
     ]
    }
   ],
   "source": [
    "m = re.match('[a-z]+', 'PYthon')  # 소문자가 1개 이상\n",
    "print(m)"
   ]
  },
  {
   "cell_type": "markdown",
   "metadata": {},
   "source": [
    "- 정규 표현식 예제 #2"
   ]
  },
  {
   "cell_type": "code",
   "execution_count": 4,
   "metadata": {},
   "outputs": [
    {
     "name": "stdout",
     "output_type": "stream",
     "text": [
      "<re.Match object; span=(0, 5), match='regex'>\n",
      "None\n",
      "<re.Match object; span=(0, 10), match='regexpytho'>\n",
      "None\n",
      "<re.Match object; span=(0, 5), match='regex'>\n",
      "<re.Match object; span=(0, 11), match='regexpython'>\n"
     ]
    }
   ],
   "source": [
    "print(re.match('[a-z]+', 'regex python'))\n",
    "print(re.match('[a-z]+', ' regexpython'))  # 문자열 처음에 공백 포함\n",
    "\n",
    "print(re.match('[a-z]+', 'regexpythoN'))\n",
    "print(re.match('[a-z]+$', 'regex pythoN'))  # $ : 문자열의 마지막 부분 검사\n",
    "\n",
    "print(re.match('[a-z]+', 'regexPython'))\n",
    "print(re.match('[a-z]+$', 'regexpython'))"
   ]
  },
  {
   "cell_type": "markdown",
   "metadata": {},
   "source": [
    "- 정규 표현식 예제 #3\n",
    "    - findall() 함수 : 일치하는 모든 문자열을 리스트로 리턴\n",
    "    - search() 함수 : 일치하는 첫 번째 문자열만 리턴\n",
    "    - match() 함수"
   ]
  },
  {
   "cell_type": "code",
   "execution_count": 6,
   "metadata": {},
   "outputs": [
    {
     "data": {
      "text/plain": [
       "['life', 'is', 'too', 'short', 'egular', 'expression', 'test']"
      ]
     },
     "execution_count": 6,
     "metadata": {},
     "output_type": "execute_result"
    }
   ],
   "source": [
    "p = re.compile('[a-z]+')  # 알파벳 소문자\n",
    "p.findall('life\tis\ttoo\tshort!\tRegular\texpression\ttest')"
   ]
  },
  {
   "cell_type": "code",
   "execution_count": 8,
   "metadata": {},
   "outputs": [
    {
     "name": "stdout",
     "output_type": "stream",
     "text": [
      "<re.Match object; span=(2, 6), match='like'>\n",
      "like\n",
      "['like', 'apple']\n"
     ]
    }
   ],
   "source": [
    "result = p.search('I like apple 123')\n",
    "print(result)\n",
    "print(result.group())  # group() : 일치하는 전체 문자열 리턴\n",
    "\n",
    "result = p.findall('I like apple 123')\n",
    "print(result)"
   ]
  },
  {
   "cell_type": "markdown",
   "metadata": {},
   "source": [
    "- 전화번호 분석\n",
    "    - 전화번호 : '지역번호-국번-전화번호'\n",
    "        - 전화번호 : (2, 3자리)-(3, 4자리)-(4자리)\n",
    "        - 예 : 02-123-4567, 053-123-1234"
   ]
  },
  {
   "cell_type": "code",
   "execution_count": 10,
   "metadata": {},
   "outputs": [
    {
     "name": "stdout",
     "output_type": "stream",
     "text": [
      "02-123-4567\n",
      "None\n",
      "None\n"
     ]
    }
   ],
   "source": [
    "import re\n",
    "# ^ .. $ 을 명시해야 정확한 자리수 검사가 이루어짐\n",
    "tel_checker = re.compile('^(\\d{2,3})-(\\d{3,4})-(\\d{4})$')\n",
    "\n",
    "print(tel_checker.match('02-123-4567').group())\n",
    "print(tel_checker.match('053-950-45678'))  # 마지막 숫자의 자리수가 맞지 않음\n",
    "print(tel_checker.match('053950-4567'))  # dash(-)가 없음"
   ]
  },
  {
   "cell_type": "markdown",
   "metadata": {},
   "source": [
    "- groups() : 매칭 결과를 튜플로 출력\n",
    "- group() : 매칭된 전체 문자열 반환\n",
    "- group(index) : 해당 인덱스에 매칭된 문자열 반환\n",
    "    - index = 0 : 전체 리턴"
   ]
  },
  {
   "cell_type": "code",
   "execution_count": 13,
   "metadata": {},
   "outputs": [
    {
     "name": "stdout",
     "output_type": "stream",
     "text": [
      "('02', '123', '4567')\n",
      "group():\t 02-123-4567\n",
      "group(0):  02-123-4567\n",
      "group(1):  02\n",
      "group(2,3):  ('123', '4567')\n",
      "start():\t 0\n",
      "end():  11\n"
     ]
    }
   ],
   "source": [
    "tel_checker = re.compile('^(\\d{2,3})-(\\d{3,4})-(\\d{4})$')\n",
    "m = tel_checker.match('02-123-4567')\n",
    "\n",
    "print(m.groups())\n",
    "print('group():\t', m.group())\n",
    "print('group(0): ', m.group(0))\n",
    "print('group(1): ',\tm.group(1))\n",
    "print('group(2,3): ', m.group(2,3))\n",
    "print('start():\t', m.start())\t#\t매칭된 문자열의 시작 인덱스\n",
    "print('end(): ', m.end())\t#\t매칭된 문자열의 마지막 인덱스+1"
   ]
  },
  {
   "cell_type": "markdown",
   "metadata": {},
   "source": [
    "- 휴대전화번호\n",
    "    - 휴대전화번호 구성 : '사업자번호(3자리)-국번(3,4자리)-전화번호(4자리)'\n",
    "        - 사업자 번호 : 010, 011, 016, 017, 018, 019\n",
    "        - 예 : 010-123-4567, 011-1234-5678, 019-111-2222"
   ]
  },
  {
   "cell_type": "code",
   "execution_count": 14,
   "metadata": {},
   "outputs": [
    {
     "name": "stdout",
     "output_type": "stream",
     "text": [
      "<re.Match object; span=(0, 12), match='010-123-4567'>\n",
      "<re.Match object; span=(0, 13), match='019-1234-5678'>\n",
      "None\n",
      "None\n"
     ]
    }
   ],
   "source": [
    "cell_phone = re.compile('^(01(?:0|1|[6-9]))-(\\d{3,4})-(\\d{4})$')\n",
    "\n",
    "print(cell_phone.match('010-123-4567'))\n",
    "print(cell_phone.match('019-1234-5678'))\n",
    "print(cell_phone.match('001-123-4567'))\n",
    "print(cell_phone.match('010-1234567'))"
   ]
  },
  {
   "cell_type": "markdown",
   "metadata": {},
   "source": [
    "#### 전방 탐색(lookahead) <hr>"
   ]
  },
  {
   "cell_type": "markdown",
   "metadata": {},
   "source": [
    "- 전방 긍정 탐색\n",
    "    - 패턴과 일치하는 문자열을 만나면 패턴 앞의 문자열 반환 : (?=패턴)\n",
    "- 전방 부정 탐색\n",
    "    - 패턴과 일치하는 문자열을 만나면 패턴 앞의 문자열 반환 : (?!패턴)"
   ]
  },
  {
   "cell_type": "code",
   "execution_count": 15,
   "metadata": {},
   "outputs": [
    {
     "name": "stdout",
     "output_type": "stream",
     "text": [
      "1000 \n",
      "<re.Match object; span=(0, 11), match='2023-01-26 '>\n",
      "<re.Match object; span=(9, 13), match='5678'>\n"
     ]
    }
   ],
   "source": [
    "import\tre\n",
    "# 전방 긍정 탐색 : (문자열이 won을 포함하고 있으면 won\t앞의 문자열 리턴)\n",
    "lookahead1 = re.search('.+(?=won)',\t'1000 won')\n",
    "if(lookahead1 != None):\n",
    "\tprint(lookahead1.group())\n",
    "else:\n",
    "\tprint('None')\n",
    "lookahead2 = re.search('.+(?=am)', '2023-01-26 am 10:00:01')\n",
    "print(lookahead2)\n",
    "# 전방 부정 탐색 (?!) :\t4자리 숫자 다음에 '-'를 포함하지 않으면 앞의 문자열 리턴\n",
    "lookahead3 = re.search('\\d{4}(?!-)', '010-1234-5678')\n",
    "print(lookahead3)"
   ]
  },
  {
   "cell_type": "markdown",
   "metadata": {},
   "source": [
    "#### 후방 탐색(lookbehind) <hr>"
   ]
  },
  {
   "cell_type": "markdown",
   "metadata": {},
   "source": [
    "- 후방 긍정 탐색\n",
    "    - 패턴과 일치하는 문자열을 만나면 패턴 뒤의 문자열 반환 : (?<=패턴)\n",
    "- 후방 부정 탐색\n",
    "    - 패턴과 일치하지 않는 문자열을 만나면 패턴 뒤의 문자열 반환 : (?<!패턴)"
   ]
  },
  {
   "cell_type": "code",
   "execution_count": 16,
   "metadata": {},
   "outputs": [
    {
     "name": "stdout",
     "output_type": "stream",
     "text": [
      "<re.Match object; span=(13, 22), match='\\t11:10:01'>\n",
      "<re.Match object; span=(4, 8), match=' $51'>\n",
      "<re.Match object; span=(15, 18), match='100'>\n"
     ]
    }
   ],
   "source": [
    "lookbehind1 = re.search('(?<=am).+', '2023-01-26 am\t11:10:01')\n",
    "print(lookbehind1)\n",
    "\n",
    "lookbehind2\t= re.search('(?<=:).+',\t'USD: $51')\n",
    "print(lookbehind2)\n",
    "\n",
    "# 후방 부정 탐색('\\b':\t공백)\n",
    "# 공백 다음에 $기호가 없고 숫자가 1개 이상이고 공백이 있는 경우\n",
    "lookbehind4\t= re.search(r'\\b(?<!\\$)\\d+\\b', 'I paid $30 for 100 apples.')\n",
    "print(lookbehind4)"
   ]
  },
  {
   "cell_type": "markdown",
   "metadata": {},
   "source": [
    "#### 정규 표현식과 BeautifulSoup #1 <hr>"
   ]
  },
  {
   "cell_type": "markdown",
   "metadata": {},
   "source": [
    "- BeautifulSoup의 문자열을 받는 함수들\n",
    "    - 정규 표현식을 매개 변수로 받을 수 있음\n",
    "- 제품 이미지 검색 :\n",
    "    - img src = \"...\" 태그의 속성['src'] 사용"
   ]
  },
  {
   "cell_type": "code",
   "execution_count": 21,
   "metadata": {},
   "outputs": [
    {
     "name": "stdout",
     "output_type": "stream",
     "text": [
      "<img src=\"../img/gifts/img1.jpg\"/> => ['src'] 속성: ../img/gifts/img1.jpg\n",
      "<img src=\"../img/gifts/img2.jpg\"/> => ['src'] 속성: ../img/gifts/img2.jpg\n",
      "<img src=\"../img/gifts/img3.jpg\"/> => ['src'] 속성: ../img/gifts/img3.jpg\n",
      "<img src=\"../img/gifts/img4.jpg\"/> => ['src'] 속성: ../img/gifts/img4.jpg\n",
      "<img src=\"../img/gifts/img6.jpg\"/> => ['src'] 속성: ../img/gifts/img6.jpg\n"
     ]
    }
   ],
   "source": [
    "from urllib.request import urlopen\n",
    "from bs4 import BeautifulSoup\n",
    "import re\n",
    "\n",
    "html = urlopen('http://www.pythonscraping.com/pages/page3.html')\n",
    "soup = BeautifulSoup(html, 'html.parser')\n",
    "\n",
    "# 정규식: ('img.*\\.jpg'): img 다음에 임의의 한 문자가 0회 이상\n",
    "# - img.jpg, img1.jpg, imga.jpg 등\n",
    "img_tag = re.compile('/img/gifts/img.*.jpg')\n",
    "# find_all()에서 img의 src 속성값에 정규식 사용\n",
    "images = soup.find_all('img', {'src' : img_tag})\t\n",
    "for\timage in images:\t\n",
    "\tprint(image, end = \" => ['src'] 속성: \")\n",
    "\tprint(image['src'])"
   ]
  },
  {
   "cell_type": "markdown",
   "metadata": {},
   "source": [
    "#### 정규 표현식과 BeautifulSoup #2 <hr> "
   ]
  },
  {
   "cell_type": "markdown",
   "metadata": {},
   "source": [
    "- 대소문자 구분없이 특정 단어 검색\n",
    "    - '[T|t]{1}he prince' : T 또는 t가 1회\n"
   ]
  },
  {
   "cell_type": "code",
   "execution_count": 22,
   "metadata": {},
   "outputs": [
    {
     "name": "stdout",
     "output_type": "stream",
     "text": [
      "the prince count :  7\n",
      "T|the prince count :  11\n"
     ]
    },
    {
     "name": "stderr",
     "output_type": "stream",
     "text": [
      "C:\\Users\\xnnly\\AppData\\Local\\Temp\\ipykernel_9484\\1819497343.py:8: DeprecationWarning: The 'text' argument to find()-type methods is deprecated. Use 'string' instead.\n",
      "  princeList = bs.find_all(text = 'the prince')\n",
      "C:\\Users\\xnnly\\AppData\\Local\\Temp\\ipykernel_9484\\1819497343.py:11: DeprecationWarning: The 'text' argument to find()-type methods is deprecated. Use 'string' instead.\n",
      "  prince_list = bs.find_all(text = re.compile('[T|t]{1}he prince'))\n"
     ]
    }
   ],
   "source": [
    "from urllib.request import urlopen\n",
    "from bs4 import BeautifulSoup\n",
    "import re\n",
    "\n",
    "html = urlopen('http://www.pythonscraping.com/pages/warandpeace.html')\n",
    "bs = BeautifulSoup(html, 'html.parser')\n",
    "\n",
    "princeList = bs.find_all(text = 'the prince')\n",
    "print('the prince count : ', len(princeList))\n",
    "\n",
    "prince_list = bs.find_all(text = re.compile('[T|t]{1}he prince'))\n",
    "print('T|the prince count : ', len(prince_list))"
   ]
  },
  {
   "cell_type": "code",
   "execution_count": 25,
   "metadata": {},
   "outputs": [
    {
     "data": {
      "text/plain": [
       "['the prince',\n",
       " 'the prince',\n",
       " 'the prince',\n",
       " 'the prince',\n",
       " 'the prince',\n",
       " 'the prince',\n",
       " 'the prince']"
      ]
     },
     "execution_count": 25,
     "metadata": {},
     "output_type": "execute_result"
    }
   ],
   "source": [
    "princeList"
   ]
  },
  {
   "cell_type": "code",
   "execution_count": 24,
   "metadata": {},
   "outputs": [
    {
     "data": {
      "text/plain": [
       "['the prince',\n",
       " 'the prince',\n",
       " 'the prince',\n",
       " 'the prince',\n",
       " 'the prince',\n",
       " 'the prince',\n",
       " 'The prince',\n",
       " 'The prince',\n",
       " '\" she continued after a short pause, drawing nearer\\nto the prince and smiling amiably at him as if to show that\\npolitical and social topics were ended and the time had come for\\nintimate conversation- \"',\n",
       " 'the prince',\n",
       " 'The prince']"
      ]
     },
     "execution_count": 24,
     "metadata": {},
     "output_type": "execute_result"
    }
   ],
   "source": [
    "prince_list"
   ]
  }
 ],
 "metadata": {
  "kernelspec": {
   "display_name": "TEST",
   "language": "python",
   "name": "python3"
  },
  "language_info": {
   "codemirror_mode": {
    "name": "ipython",
    "version": 3
   },
   "file_extension": ".py",
   "mimetype": "text/x-python",
   "name": "python",
   "nbconvert_exporter": "python",
   "pygments_lexer": "ipython3",
   "version": "3.9.18"
  }
 },
 "nbformat": 4,
 "nbformat_minor": 2
}
