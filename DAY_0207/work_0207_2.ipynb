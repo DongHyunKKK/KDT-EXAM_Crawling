{
 "cells": [
  {
   "cell_type": "code",
   "execution_count": 2,
   "metadata": {},
   "outputs": [],
   "source": [
    "from urllib.request import urlopen\n",
    "from bs4 import BeautifulSoup\n",
    "from urllib.parse import quote"
   ]
  },
  {
   "cell_type": "code",
   "execution_count": 7,
   "metadata": {},
   "outputs": [],
   "source": [
    "url = f'https://search.naver.com/search.naver?query={quote(\"대구+날씨\")}'\n",
    "html = urlopen(url)\n",
    "bs = BeautifulSoup(html.read(), 'html.parser')"
   ]
  },
  {
   "cell_type": "code",
   "execution_count": 8,
   "metadata": {},
   "outputs": [],
   "source": [
    "weather_infolink = bs.select_one('div.weather_info')"
   ]
  },
  {
   "cell_type": "code",
   "execution_count": 11,
   "metadata": {},
   "outputs": [
    {
     "data": {
      "text/plain": [
       "<div class=\"title_area _area_panel\"> <h2 class=\"blind\">중구 동인동1가</h2> <h2 class=\"title\">중구 동인동1가</h2> <a class=\"link_cctv\" href=\"https://weather.naver.com/map/06110101?cctv=true\" nocr=\"\" onclick=\"return goOtherCR(this, 'a=nco_x7t*4.cctv&amp;r=1&amp;i=88157038_00000065035F&amp;u=' + urlencode(this.href));\" target=\"_blank\"><span class=\"text_cctv\">CCTV</span></a> </div>"
      ]
     },
     "execution_count": 11,
     "metadata": {},
     "output_type": "execute_result"
    }
   ],
   "source": [
    "c = bs.select_one('div.title_area')"
   ]
  },
  {
   "cell_type": "code",
   "execution_count": 13,
   "metadata": {},
   "outputs": [
    {
     "data": {
      "text/plain": [
       "'중구 동인동1가'"
      ]
     },
     "execution_count": 13,
     "metadata": {},
     "output_type": "execute_result"
    }
   ],
   "source": [
    "c = bs.select_one('div.title_area > h2.blind')\n",
    "c.text"
   ]
  },
  {
   "cell_type": "code",
   "execution_count": 14,
   "metadata": {},
   "outputs": [
    {
     "data": {
      "text/plain": [
       "<div class=\"temperature_text\"> <strong><span class=\"blind\">현재 온도</span>-1.2<span class=\"celsius\">°</span></strong> </div>"
      ]
     },
     "execution_count": 14,
     "metadata": {},
     "output_type": "execute_result"
    }
   ],
   "source": [
    "bs.select_one('div.temperature_text')"
   ]
  },
  {
   "cell_type": "code",
   "execution_count": 15,
   "metadata": {},
   "outputs": [
    {
     "data": {
      "text/plain": [
       "' 현재 온도-1.2° '"
      ]
     },
     "execution_count": 15,
     "metadata": {},
     "output_type": "execute_result"
    }
   ],
   "source": [
    "bs.select_one('div.temperature_text').text"
   ]
  },
  {
   "cell_type": "code",
   "execution_count": 18,
   "metadata": {},
   "outputs": [
    {
     "data": {
      "text/plain": [
       "'맑음'"
      ]
     },
     "execution_count": 18,
     "metadata": {},
     "output_type": "execute_result"
    }
   ],
   "source": [
    "bs.select_one('span.weather').text"
   ]
  },
  {
   "cell_type": "code",
   "execution_count": 28,
   "metadata": {},
   "outputs": [
    {
     "data": {
      "text/plain": [
       "5"
      ]
     },
     "execution_count": 28,
     "metadata": {},
     "output_type": "execute_result"
    }
   ],
   "source": [
    "len(bs.select('ul.today_chart_list'))"
   ]
  },
  {
   "cell_type": "code",
   "execution_count": 41,
   "metadata": {},
   "outputs": [
    {
     "data": {
      "text/plain": [
       "<ul class=\"today_chart_list\"> <li class=\"item_today level1\"> <a href=\"?where=nexearch&amp;sm=tab_etc&amp;pkid=227&amp;qvt=0&amp;query=%EB%8C%80%EA%B5%AC%EA%B4%91%EC%97%AD%EC%8B%9C%20%EC%A4%91%EA%B5%AC%20%EB%8F%99%EC%9D%B8%EB%8F%991%EA%B0%80%20%EB%AF%B8%EC%84%B8%EB%A8%BC%EC%A7%80\" nocr=\"\" onclick=\"return goOtherCR(this, 'a=nco_x7t*4&amp;r=1&amp;i=88157038_00000065035F&amp;u=' + urlencode(this.href));\"> <strong class=\"title\">미세먼지</strong> <span class=\"txt\">보통</span> </a> </li> <li class=\"item_today level1\"> <a href=\"?where=nexearch&amp;sm=tab_etc&amp;pkid=227&amp;qvt=0&amp;query=%EB%8C%80%EA%B5%AC%EA%B4%91%EC%97%AD%EC%8B%9C%20%EC%A4%91%EA%B5%AC%20%EB%8F%99%EC%9D%B8%EB%8F%991%EA%B0%80%20%EC%B4%88%EB%AF%B8%EC%84%B8%EB%A8%BC%EC%A7%80\" nocr=\"\" onclick=\"return goOtherCR(this, 'a=nco_x7t*4&amp;r=1&amp;i=88157038_00000065035F&amp;u=' + urlencode(this.href));\"> <strong class=\"title\">초미세먼지</strong> <span class=\"txt\">보통</span> </a> </li> <li class=\"item_today level2\"> <a href=\"#\" nocr=\"\" onclick=\"goOtherTCR(this, 'a=nco_x7t*4&amp;r=1&amp;i=88157038_00000065035F');return false;\"> <strong class=\"title\">자외선</strong> <span class=\"txt\">좋음</span> </a> </li> <li class=\"item_today type_sun\"> <a href=\"#\" nocr=\"\" onclick=\"goOtherTCR(this, 'a=nco_x7t*4&amp;r=1&amp;i=88157038_00000065035F');return false;\"> <strong class=\"title\">일몰</strong> <span class=\"txt\">17:59</span> </a> </li> </ul>"
      ]
     },
     "execution_count": 41,
     "metadata": {},
     "output_type": "execute_result"
    }
   ],
   "source": [
    "bs.select('ul.today_chart_list')[0]"
   ]
  },
  {
   "cell_type": "code",
   "execution_count": 42,
   "metadata": {},
   "outputs": [],
   "source": [
    "v = bs.select('ul.today_chart_list')[0]"
   ]
  },
  {
   "cell_type": "code",
   "execution_count": 51,
   "metadata": {},
   "outputs": [
    {
     "data": {
      "text/plain": [
       "[<strong class=\"title\">미세먼지</strong>,\n",
       " <strong class=\"title\">초미세먼지</strong>,\n",
       " <strong class=\"title\">자외선</strong>,\n",
       " <strong class=\"title\">일몰</strong>]"
      ]
     },
     "execution_count": 51,
     "metadata": {},
     "output_type": "execute_result"
    }
   ],
   "source": [
    "v.select('strong.title')"
   ]
  },
  {
   "cell_type": "code",
   "execution_count": null,
   "metadata": {},
   "outputs": [],
   "source": [
    "v.select_one('strong.title').text"
   ]
  },
  {
   "cell_type": "code",
   "execution_count": 47,
   "metadata": {},
   "outputs": [
    {
     "data": {
      "text/plain": [
       "[<span class=\"txt\">보통</span>,\n",
       " <span class=\"txt\">보통</span>,\n",
       " <span class=\"txt\">좋음</span>,\n",
       " <span class=\"txt\">17:59</span>]"
      ]
     },
     "execution_count": 47,
     "metadata": {},
     "output_type": "execute_result"
    }
   ],
   "source": [
    "v.select('span.txt')"
   ]
  },
  {
   "cell_type": "code",
   "execution_count": 88,
   "metadata": {},
   "outputs": [
    {
     "name": "stdout",
     "output_type": "stream",
     "text": [
      "미세먼지 보통\n",
      "초미세먼지 보통\n",
      "자외선 좋음\n",
      "일몰 17:59\n"
     ]
    }
   ],
   "source": [
    "for ind in range(4):\n",
    "    print(v.select('strong.title')[ind].text, v.select('span.txt')[ind].text)"
   ]
  },
  {
   "cell_type": "code",
   "execution_count": 58,
   "metadata": {},
   "outputs": [],
   "source": [
    "w = bs.select_one('div.graph_inner')"
   ]
  },
  {
   "cell_type": "code",
   "execution_count": 65,
   "metadata": {},
   "outputs": [
    {
     "data": {
      "text/plain": [
       "<li class=\"_li _day\" data-day=\"today\"> <dl class=\"graph_content\"> <dt class=\"time\"><em>09시</em></dt> <dd class=\"weather_box\"> <i class=\"wt_icon ico_wt1\"><span class=\"blind\">맑음</span></i> </dd> <dd class=\"degree_point\"> <div class=\"inner\"> <div class=\"point_box\" style=\"height:20%;\"> <span class=\"num\">1<span class=\"celsius\">°</span></span> </div> </div> </dd> </dl> </li>"
      ]
     },
     "execution_count": 65,
     "metadata": {},
     "output_type": "execute_result"
    }
   ],
   "source": [
    "w.select('li')[0]"
   ]
  },
  {
   "cell_type": "code",
   "execution_count": 79,
   "metadata": {},
   "outputs": [
    {
     "data": {
      "text/plain": [
       "<li class=\"_li\"> <dl class=\"graph_content\"> <dt class=\"time\"><em>10시</em></dt> <dd class=\"weather_box\"> <i class=\"wt_icon ico_wt1\"><span class=\"blind\">맑음</span></i> </dd> <dd class=\"degree_point\"> <div class=\"inner\"> <div class=\"point_box\" style=\"height:40%;\"> <span class=\"num\">3<span class=\"celsius\">°</span></span> </div> </div> </dd> </dl> </li>"
      ]
     },
     "execution_count": 79,
     "metadata": {},
     "output_type": "execute_result"
    }
   ],
   "source": []
  },
  {
   "cell_type": "code",
   "execution_count": 67,
   "metadata": {},
   "outputs": [
    {
     "data": {
      "text/plain": [
       "64"
      ]
     },
     "execution_count": 67,
     "metadata": {},
     "output_type": "execute_result"
    }
   ],
   "source": [
    "len(w.select('li'))"
   ]
  },
  {
   "cell_type": "code",
   "execution_count": 81,
   "metadata": {},
   "outputs": [
    {
     "data": {
      "text/plain": [
       "[<dt class=\"time\"><em>11시</em></dt>,\n",
       " <span class=\"blind\">맑음</span>,\n",
       " <span class=\"num\">5<span class=\"celsius\">°</span></span>]"
      ]
     },
     "execution_count": 81,
     "metadata": {},
     "output_type": "execute_result"
    }
   ],
   "source": [
    "w.select('li')[2].select('dt.time, span.blind, span.num')"
   ]
  },
  {
   "cell_type": "code",
   "execution_count": 83,
   "metadata": {},
   "outputs": [],
   "source": [
    "a = w.select('li')[1].select('dt.time, span.blind, span.num')"
   ]
  },
  {
   "cell_type": "code",
   "execution_count": 89,
   "metadata": {},
   "outputs": [
    {
     "data": {
      "text/plain": [
       "[<dt class=\"time\"><em>10시</em></dt>,\n",
       " <span class=\"blind\">맑음</span>,\n",
       " <span class=\"num\">3<span class=\"celsius\">°</span></span>]"
      ]
     },
     "execution_count": 89,
     "metadata": {},
     "output_type": "execute_result"
    }
   ],
   "source": [
    "a"
   ]
  },
  {
   "cell_type": "code",
   "execution_count": 84,
   "metadata": {},
   "outputs": [
    {
     "data": {
      "text/plain": [
       "'10시'"
      ]
     },
     "execution_count": 84,
     "metadata": {},
     "output_type": "execute_result"
    }
   ],
   "source": [
    "a[0].text"
   ]
  },
  {
   "cell_type": "code",
   "execution_count": 85,
   "metadata": {},
   "outputs": [
    {
     "data": {
      "text/plain": [
       "'맑음'"
      ]
     },
     "execution_count": 85,
     "metadata": {},
     "output_type": "execute_result"
    }
   ],
   "source": [
    "a[1].text"
   ]
  },
  {
   "cell_type": "code",
   "execution_count": 86,
   "metadata": {},
   "outputs": [
    {
     "data": {
      "text/plain": [
       "'3°'"
      ]
     },
     "execution_count": 86,
     "metadata": {},
     "output_type": "execute_result"
    }
   ],
   "source": [
    "a[2].text"
   ]
  },
  {
   "cell_type": "code",
   "execution_count": 5,
   "metadata": {},
   "outputs": [
    {
     "name": "stdout",
     "output_type": "stream",
     "text": [
      "현재 위치 : 중구 동인동1가\n",
      "현재 온도 :  현재 온도6.0° \n",
      "날씨 상태 : 맑음\n",
      "공기 상태 : \n",
      "미세먼지 보통\n",
      "초미세먼지 나쁨\n",
      "자외선 좋음\n",
      "일몰 17:59\n",
      "------------------------------\n",
      "시간대별 날씨 및 온도\n",
      "------------------------------\n",
      "13시  맑음  7°\n",
      "14시  맑음  8°\n",
      "15시  맑음  8°\n",
      "16시  맑음  8°\n",
      "17시  맑음  8°\n",
      "18시  구름많음  6°\n",
      "19시  구름많음  5°\n",
      "20시  구름많음  4°\n",
      "21시  구름많음  3°\n",
      "22시  구름많음  3°\n",
      "23시  구름많음  2°\n",
      "내일  구름많음  1°\n",
      "01시  구름많음  1°\n",
      "02시  흐림  1°\n",
      "03시  구름많음  0°\n",
      "04시  흐림  0°\n",
      "05시  구름많음  -1°\n",
      "06시  흐림  -1°\n",
      "07시  흐림  -1°\n",
      "08시  구름많음  -1°\n",
      "09시  맑음  1°\n",
      "10시  맑음  3°\n",
      "11시  맑음  5°\n",
      "12시  맑음  6°\n",
      "13시  맑음  8°\n",
      "14시  맑음  8°\n",
      "15시  맑음  9°\n",
      "16시  맑음  8°\n",
      "17시  맑음  8°\n",
      "18시  맑음  5°\n",
      "19시  맑음  4°\n",
      "20시  맑음  4°\n",
      "21시  맑음  3°\n",
      "22시  맑음  2°\n",
      "23시  맑음  2°\n",
      "모레  맑음  1°\n",
      "01시  맑음  1°\n",
      "02시  맑음  0°\n",
      "03시  맑음  0°\n",
      "04시  맑음  -1°\n",
      "05시  맑음  -1°\n",
      "06시  맑음  -1°\n",
      "07시  맑음  -1°\n",
      "08시  맑음  -1°\n",
      "09시  맑음  1°\n",
      "10시  맑음  3°\n",
      "11시  맑음  5°\n",
      "12시  맑음  6°\n",
      "13시  구름많음  8°\n",
      "14시  흐림  8°\n",
      "15시  흐림  9°\n",
      "16시  흐림  9°\n",
      "17시  흐림  9°\n",
      "18시  흐림  7°\n",
      "19시  흐림  6°\n",
      "20시  흐림  5°\n",
      "21시  흐림  4°\n",
      "22시  흐림  4°\n",
      "23시  흐림  3°\n",
      "02.11.  흐림  2°\n"
     ]
    }
   ],
   "source": [
    "url = f'https://search.naver.com/search.naver?query={quote(\"대구+날씨\")}'\n",
    "def naverweather(url):\n",
    "    html = urlopen(url)\n",
    "    bs = BeautifulSoup(html.read(), 'html.parser')\n",
    "    air_condition = bs.select('ul.today_chart_list')[0]\n",
    "\n",
    "    try:\n",
    "        now_location = bs.select_one('div.title_area > h2.blind').text\n",
    "    except Exception as e:\n",
    "        print(e)\n",
    "        now_location = None\n",
    "    \n",
    "    try:\n",
    "        now_temperature = bs.select_one('div.temperature_text').text\n",
    "    except Exception as e:\n",
    "        print(e)\n",
    "        now_temperature = None\n",
    "    \n",
    "    try:\n",
    "        weather_condition = bs.select_one('span.weather').text\n",
    "    except Exception as e:\n",
    "        print(e)\n",
    "        weather_condition = None\n",
    "\n",
    "\n",
    "    print(f\"현재 위치 : {now_location}\")\n",
    "    print(f\"현재 온도 : {now_temperature}\")\n",
    "    print(f\"날씨 상태 : {weather_condition}\")\n",
    "    print(f\"공기 상태 : \")\n",
    "    for ind in range(4):\n",
    "        try:\n",
    "            title = air_condition.select('strong.title')[ind].text\n",
    "        except Exception as e:\n",
    "            print(e)\n",
    "            title = None\n",
    "\n",
    "        try:\n",
    "            txt = air_condition.select('span.txt')[ind].text\n",
    "        except Exception as e:\n",
    "            print(e)\n",
    "            txt = None\n",
    "\n",
    "        print(title, txt)\n",
    "    print('-'* 30)\n",
    "    print('시간대별 날씨 및 온도')\n",
    "    print('-'* 30)\n",
    "\n",
    "    time_wt = bs.select_one('div.graph_inner')\n",
    "    for ind in range(len(time_wt.select('li'))):\n",
    "        a = time_wt.select('li')[ind].select('dt.time, span.blind, span.num')\n",
    "       \n",
    "        try:\n",
    "            time = a[0].text\n",
    "        except Exception as e:\n",
    "            print(e)\n",
    "            time = None\n",
    "\n",
    "        try:\n",
    "            weather = a[1].text\n",
    "        except Exception as e:\n",
    "            print(e)\n",
    "            weather = None\n",
    "        \n",
    "        try:\n",
    "            temperature = a[2].text\n",
    "        except Exception as e:\n",
    "            print(e)\n",
    "            temperature = None\n",
    "\n",
    "        print(f'{a[0].text}  {a[1].text}  {a[2].text}')\n",
    "\n",
    "naverweather(url)\n"
   ]
  }
 ],
 "metadata": {
  "kernelspec": {
   "display_name": "TEST",
   "language": "python",
   "name": "python3"
  },
  "language_info": {
   "codemirror_mode": {
    "name": "ipython",
    "version": 3
   },
   "file_extension": ".py",
   "mimetype": "text/x-python",
   "name": "python",
   "nbconvert_exporter": "python",
   "pygments_lexer": "ipython3",
   "version": "3.9.18"
  }
 },
 "nbformat": 4,
 "nbformat_minor": 2
}
